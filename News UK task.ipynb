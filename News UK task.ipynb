{
 "cells": [
  {
   "cell_type": "markdown",
   "metadata": {},
   "source": [
    "# NewsUK test"
   ]
  },
  {
   "cell_type": "markdown",
   "metadata": {},
   "source": [
    "This test gives you the opportunity to demonstrate your data analysis and predictive modelling skills.  \n",
    " \n",
    "Two data files are provided, which contain fictitious information about a group of customers and their interactions with a news website:  \n",
    " 1. ds_test_demog_out.csv​:  This is the output of a SQL query run on a customer database and includes customer ids (uid) and a demographic attribute (attribute_1) recorded for these customers. \n",
    " 2. ds_test_log_out.csv​:  This is the output of a SQL query run on a database that contains the event logs for a news website. It includes the customer id (uid) of the customer making the interaction on the website, the date of the interaction, and the name of the website section and the website page that they are interacting with."
   ]
  },
  {
   "cell_type": "markdown",
   "metadata": {},
   "source": [
    "Test scenario \n",
    " \n",
    "You are a data scientist working in Data Technology. Rachel, is the deputy editor for one of our news websites and has come to you and explained that she would like to ​improve the user experience for customers visiting the website by showing more relevant, personalised content\n",
    "​ to visitors, based on who they are. In particular Rachel would like to promote certain types of news stories to visitors based on a particular demographic attribute.  \n",
    " \n",
    "The challenge for Rachel is that attribute_1 is not very well populated in the customer database, and therefore we can only see it for a subset of visitors who come to the website. ​Rachel wants to know if you (as a data scientist in Data Technology) can reliably predict attribute_1 for visitors to the website where it is not known for a visitor. If feasible, she wants to use a predicted value for attribute_1 for personalising content where attribute_1 is not available. "
   ]
  },
  {
   "cell_type": "markdown",
   "metadata": {},
   "source": [
    "Using the two data sets provided: \n",
    "1. Assess the feasibility of predicting the value of ​attribute_1​ where it is missing. \n",
    "2. Identify which features (that can be extracted from the data) are most important for predicting ​attribute_1​. \n",
    "\n",
    "Assume that you have two audiences for your findings: \n",
    "- Rachel and her colleagues in the editorial team (who requested the work). \n",
    "- Your data science and engineering colleagues (as part of a weekly project review). "
   ]
  },
  {
   "cell_type": "markdown",
   "metadata": {},
   "source": [
    "Outputs required from you \n",
    " \n",
    "Suggested time for this exercise is 2-3 hours. Your outputs should include: \n",
    " \n",
    "- A few bullet points explaining the findings that you would present to each audience ( Rachel and the editorial team, and your data science colleagues) and any analysis outputs (charts, tables etc) - please put all of these into a single document (e.g. Word, Google Doc or PDF) - or if you prefer, include in the Notebook below. \n",
    "- Analysis code in the language of your choice (e.g. Python, R etc) - commented where possible - either raw or in a Notebook (e.g. iPython) \n",
    "- Data sets generated as part of the analysis (including any interim and final data sets e.g. data tables / data frames) \n",
    "- Any observations / thoughts you have on the nature of this problem, and ideas on how useful this would be in practice for a news website. \n",
    " "
   ]
  },
  {
   "cell_type": "code",
   "execution_count": 181,
   "metadata": {
    "collapsed": true
   },
   "outputs": [],
   "source": [
    "#Plotting\n",
    "%load_ext autoreload\n",
    "%autoreload 2\n",
    "%matplotlib inline\n",
    "\n",
    "#Python packages\n",
    "import numpy as np\n",
    "import pandas as pd\n",
    "import matplotlib.pyplot as plt\n",
    "\n",
    "#Machine Learning packages (not used)\n",
    "#from sklearn.ensemble import RandomForestRegressor\n",
    "#import sklearn.metrics as metric\n",
    "#from scipy.stats import chisquare"
   ]
  },
  {
   "cell_type": "code",
   "execution_count": 87,
   "metadata": {
    "collapsed": false
   },
   "outputs": [
    {
     "name": "stdout",
     "output_type": "stream",
     "text": [
      "1880\n",
      "1161\n"
     ]
    }
   ],
   "source": [
    "#Read Data\n",
    "df_demo = pd.read_csv('ds_test_demog_out.csv')\n",
    "df_log = pd.read_csv('ds_test_log_out.csv')\n",
    "#Check counts of unique UIDs\n",
    "print len(df_demo.uid.unique())\n",
    "print len(df_log.uid.unique())"
   ]
  },
  {
   "cell_type": "code",
   "execution_count": null,
   "metadata": {
    "collapsed": false
   },
   "outputs": [],
   "source": [
    "#Construct a left join. Merging the attribute number to the UIDs that match in the 'log' dataset. \n",
    "list_df = [df_demo,df_log]\n",
    "df = df_log.merge(df_demo, left_on='uid', right_on='uid', how='left')\n",
    "df.to_csv('ds_test_log+demog_out.csv')"
   ]
  },
  {
   "cell_type": "code",
   "execution_count": 266,
   "metadata": {
    "collapsed": false
   },
   "outputs": [
    {
     "name": "stdout",
     "output_type": "stream",
     "text": [
      "Total unique UIDs with attributes in log data: 827  out of  1161\n"
     ]
    }
   ],
   "source": [
    "#Explore attributes\n",
    "\n",
    "#Replace NaN values with numerical value (-1)\n",
    "df_nan = df.replace(np.nan, -1)\n",
    "#identify attributes\n",
    "att = df_nan.attribute_1.unique()\n",
    "#Group data by attributes\n",
    "att_1 = df.groupby('attribute_1').get_group(att[0])\n",
    "att_2 = df.groupby('attribute_1').get_group(att[2])\n",
    "att_nan = df_nan.groupby('attribute_1').get_group(att[1])\n",
    "#REPORT \n",
    "print 'Total unique UIDs with attributes in log data:', len(att_1.uid.unique())+len(att_2.uid.unique()), ' out of ',len(df_log.uid.unique())"
   ]
  },
  {
   "cell_type": "code",
   "execution_count": 267,
   "metadata": {
    "collapsed": false
   },
   "outputs": [
    {
     "data": {
      "image/png": "[encoded data removed]",
      "text/plain": [
       "<matplotlib.figure.Figure at 0xe6fd588>"
      ]
     },
     "metadata": {},
     "output_type": "display_data"
    }
   ],
   "source": [
    "#Plot the sections, by attribute, to assess if there are any demographic trends.\n",
    "att_1_section_counts = [len(att_1.groupby('section').get_group('current edition')),\n",
    "                        len(att_1.groupby('section').get_group('past 6 days')),\n",
    "                        len(att_1.groupby('section').get_group('my articles'))]\n",
    "att_2_section_counts = [len(att_2.groupby('section').get_group('current edition')),\n",
    "                        len(att_2.groupby('section').get_group('past 6 days')),\n",
    "                        len(att_2.groupby('section').get_group('my articles'))]  \n",
    "\n",
    "labels = ['current edition','past 6 days','my articles']\n",
    "\n",
    "#PLOT\n",
    "ind = np.arange(len(labels))\n",
    "fig, ax = plt.subplots()\n",
    "rects1 = ax.bar(ind, att_1_section_counts, width=0.35,color='r')\n",
    "rects2 = ax.bar(ind+0.35, att_2_section_counts, width=0.35, color='b')\n",
    "\n",
    "# add some text for labels, title and axes ticks\n",
    "ax.set_ylabel('Count')\n",
    "ax.set_title('Section counts across the attributes')\n",
    "ax.set_xticks(ind + 0.35)\n",
    "ax.set_xticklabels(labels)\n",
    "\n",
    "ax.legend((rects1[0], rects2[0]), ('1', '2'))\n",
    "plt.show()"
   ]
  },
  {
   "cell_type": "code",
   "execution_count": 268,
   "metadata": {
    "collapsed": false
   },
   "outputs": [],
   "source": [
    "#Predicting method 1. Assign attribute for UID based on the mean\n",
    "pages = df.page.unique()\n",
    "page_dict = {}\n",
    "\n",
    "df_mean = df.iloc[[0]]\n",
    "\n",
    "for i in pages:\n",
    "    df_page = df.groupby('page').get_group(i)\n",
    "    df_page_na = df_page.dropna()\n",
    "    mean = df_page_na.attribute_1.mean()\n",
    "    page_dict[i]=int(round(mean,0))\n",
    "\n",
    "    df_mean_i = df.groupby('page').get_group(i).fillna(int(round(mean,0)))\n",
    "    df_mean = pd.concat([df_mean,df_mean_i])\n",
    "\n",
    "df_mean.to_csv('ds_test_log+demog_aggregate_predictions.csv')"
   ]
  },
  {
   "cell_type": "code",
   "execution_count": 271,
   "metadata": {
    "collapsed": false
   },
   "outputs": [],
   "source": [
    "#Produce a data frame just users with unknown attributes and replace attributes\n",
    "df_page_nan = df.iloc[[0]]\n",
    "pages = att_nan.page.unique()\n",
    "for i in pages:\n",
    "    df_page = att_nan.groupby('page').get_group(i)\n",
    "    df_page_nan_i = df_page.replace(-1, page_dict[i])\n",
    "    df_page_nan = pd.concat([df_page_nan,df_page_nan_i])\n",
    "    \n",
    "df_page_nan = df_page_nan.drop(df.index[0])"
   ]
  },
  {
   "cell_type": "code",
   "execution_count": 272,
   "metadata": {
    "collapsed": false
   },
   "outputs": [
    {
     "data": {
      "image/png": "[encoded data removed]",
      "text/plain": [
       "<matplotlib.figure.Figure at 0xe6fd278>"
      ]
     },
     "metadata": {},
     "output_type": "display_data"
    }
   ],
   "source": [
    "att_1_nan = df_page_nan.groupby('attribute_1').get_group(att[0])\n",
    "att_2_nan = df_page_nan.groupby('attribute_1').get_group(att[2])\n",
    "\n",
    "att_1_nan_section_counts = [len(att_1_nan.groupby('section').get_group('current edition')),\n",
    "                            len(att_1_nan.groupby('section').get_group('past 6 days')),\n",
    "                            0]\n",
    "att_2_nan_section_counts = [len(att_2_nan.groupby('section').get_group('current edition')),\n",
    "                            len(att_2_nan.groupby('section').get_group('past 6 days')),\n",
    "                            len(att_2_nan.groupby('section').get_group('my articles'))]  \n",
    "\n",
    "labels = ['current edition','past 6 days','my articles']\n",
    "\n",
    "#PLOT\n",
    "ind = np.arange(len(labels))\n",
    "fig, ax = plt.subplots()\n",
    "\n",
    "rects1 = ax.bar(ind, att_1_section_counts, width=0.35,color='r')\n",
    "rects2 = ax.bar(ind+0.35, att_2_section_counts, width=0.35, color='b')\n",
    "rects3 = ax.bar(ind, att_1_nan_section_counts, bottom=att_1_section_counts, width=0.35,color='r',alpha=0.5)\n",
    "rects4 = ax.bar(ind+0.35, att_2_nan_section_counts, bottom=att_2_section_counts, width=0.35, color='b',alpha=0.5)\n",
    "\n",
    "# add some text for labels, title and axes ticks\n",
    "ax.set_ylabel('Count')\n",
    "ax.set_title('Section counts across the attributes')\n",
    "ax.set_xticks(ind + 0.35)\n",
    "ax.set_xticklabels(labels)\n",
    "ax.set_ylim([0,5500])\n",
    "\n",
    "ax.legend((rects1[0], rects2[0]), ('1', '2'))\n",
    "plt.show()"
   ]
  },
  {
   "cell_type": "code",
   "execution_count": 273,
   "metadata": {
    "collapsed": false
   },
   "outputs": [
    {
     "name": "stdout",
     "output_type": "stream",
     "text": [
      "Attribute count ratio for current edition from train = 0.98 and prediction = 1.03\n",
      "Attribute count ratio for past 6 days from train = 0.75 and prediction = 1.57\n",
      "Attribute count ratio for my articles from train = 0.73 and prediction = 0.0\n"
     ]
    },
    {
     "data": {
      "text/plain": [
       "current edition    9920\n",
       "past 6 days        1212\n",
       "my articles         178\n",
       "Name: section, dtype: int64"
      ]
     },
     "execution_count": 273,
     "metadata": {},
     "output_type": "execute_result"
    }
   ],
   "source": [
    "#Quantify the reliability of predictions by comparing the ratio of counts of for Attributes 1 and 2 \n",
    "#from the training data and the predicted data.\n",
    "attribute_ratio_train = []\n",
    "attribute_ratio_predict = []\n",
    "\n",
    "for i,j in zip(att_1_section_counts,att_2_section_counts):\n",
    "    attribute_ratio_train.append(float(i)/float(j))\n",
    "for i,j in zip(att_1_nan_section_counts,att_2_nan_section_counts):\n",
    "    attribute_ratio_predict.append(float(i)/float(j))\n",
    "\n",
    "print 'Attribute count ratio for {} from train = {} and prediction = {}'.format(labels[0],\n",
    "                                                                          round(attribute_ratio_train[0],2),\n",
    "                                                                          round(attribute_ratio_predict[0],2))\n",
    "print 'Attribute count ratio for {} from train = {} and prediction = {}'.format(labels[1],\n",
    "                                                                          round(attribute_ratio_train[1],2),\n",
    "                                                                          round(attribute_ratio_predict[1],2))\n",
    "print 'Attribute count ratio for {} from train = {} and prediction = {}'.format(labels[2],\n",
    "                                                                          round(attribute_ratio_train[2],2),\n",
    "                                                                          round(attribute_ratio_predict[2],2))\n",
    "df_mean.section.value_counts()"
   ]
  },
  {
   "cell_type": "code",
   "execution_count": null,
   "metadata": {
    "collapsed": false
   },
   "outputs": [],
   "source": []
  },
  {
   "cell_type": "code",
   "execution_count": null,
   "metadata": {
    "collapsed": false
   },
   "outputs": [],
   "source": []
  },
  {
   "cell_type": "code",
   "execution_count": null,
   "metadata": {
    "collapsed": false
   },
   "outputs": [],
   "source": []
  },
  {
   "cell_type": "code",
   "execution_count": null,
   "metadata": {
    "collapsed": false
   },
   "outputs": [],
   "source": []
  },
  {
   "cell_type": "code",
   "execution_count": null,
   "metadata": {
    "collapsed": true
   },
   "outputs": [],
   "source": [
    "#Random Forrest - will not work with categorical variables. \n",
    "\n",
    "#Generate attribute and predictors lists\n",
    "columns = df.columns\n",
    "attribute = columns[4]\n",
    "predictors = columns[:4]\n",
    "\n",
    "Y_train = df[attribute]\n",
    "X_train = df[predictors]\n",
    "#X_test = df_test[predictors]\n",
    "\n",
    "#Random forrest via Regressor\n",
    "#Set number of trees (greater N = better predicitons/longer run time)\n",
    "N = 50\n",
    "#Train the algorithm on the train data\n",
    "alg2 = RandomForestRegressor(n_estimators=N, min_samples_split=2, min_samples_leaf=1)\n",
    "alg2.fit(X_train, Y_train)\n",
    "#Use trained algorithm to create prediction of the trian\n",
    "Y_hat2 = alg1.predict(X_train)\n",
    "#Score Train prediction\n",
    "score = metric.r2_score(Y_train.values,Y_hat1)\n",
    "chi_score, pval = chisquare(Y_train.values, Y_hat1)\n",
    "\n",
    "print 'R-squ:',round(score,3)\n",
    "print 'Chi-squ:',round(chi_score,-6)"
   ]
  },
  {
   "cell_type": "code",
   "execution_count": null,
   "metadata": {
    "collapsed": false
   },
   "outputs": [],
   "source": []
  },
  {
   "cell_type": "code",
   "execution_count": null,
   "metadata": {
    "collapsed": true
   },
   "outputs": [],
   "source": []
  }
 ],
 "metadata": {
  "anaconda-cloud": {},
  "kernelspec": {
   "display_name": "Python [Root]",
   "language": "python",
   "name": "Python [Root]"
  },
  "language_info": {
   "codemirror_mode": {
    "name": "ipython",
    "version": 2
   },
   "file_extension": ".py",
   "mimetype": "text/x-python",
   "name": "python",
   "nbconvert_exporter": "python",
   "pygments_lexer": "ipython2",
   "version": "2.7.12"
  }
 },
 "nbformat": 4,
 "nbformat_minor": 0
}
